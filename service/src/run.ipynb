{
 "cells": [
  {
   "cell_type": "code",
   "execution_count": 1,
   "metadata": {},
   "outputs": [],
   "source": [
    "from os import getenv\n",
    "from dotenv import load_dotenv\n",
    "import json\n",
    "from services.GoogleSheetsService import *\n",
    "from services.GeminiService import *\n",
    "from utils.utils import *\n",
    "from utils.constants import *"
   ]
  },
  {
   "cell_type": "markdown",
   "metadata": {},
   "source": [
    "**1. Create a .env file inside credentials/ folder, following the model:**\n",
    "\n",
    "SHEET_ID={GoogleSheets sheet ID}<br>\n",
    "RANGE_STRING_INVESTMENTS={page name for investments and range, ex: investment!A1:K999}<br>\n",
    "RANGE_STRING_APPLICATIONS={page name for applications and range, ex: applications!A1:K999}<br>\n",
    "RANGE_STRING_RETURNS={page name for returns and range, ex: returns!A1:K999}\n",
    "\n",
    "**2. Set up Google Gemini API credentials following the instructions in [Google Gemini docs](https://ai.google.dev/gemini-api/docs/quickstart?hl=pt-br&_gl=1*iiivu*_up*MQ..&gclid=CjwKCAjw9IayBhBJEiwAVuc3fu5nCfvDVWPXbLvhT15etQN7YMyqkDg3NFBbBms5iBUHGEp21nPf6RoCFPAQAvD_BwE). Export your api key to environment variables, or put in .env .**"
   ]
  },
  {
   "cell_type": "code",
   "execution_count": 2,
   "metadata": {},
   "outputs": [],
   "source": [
    "load_dotenv('../credentials/.env')\n",
    "\n",
    "# The ID and range of a sample spreadsheet.\n",
    "SAMPLE_SPREADSHEET_ID = getenv(\"SHEET_ID\")\n",
    "SHEET_PAGE_INVESTMENTS = getenv(\"RANGE_STRING_INVESTMENTS\")\n",
    "SHEET_PAGE_APPLICATIONS = getenv(\"RANGE_STRING_APPLICATIONS\")\n",
    "SHEET_PAGE_RETURNS = getenv(\"RANGE_STRING_RETURNS\")\n",
    "GEMINI_API_KEY = getenv(\"GEMINI_API_KEY\")"
   ]
  },
  {
   "cell_type": "markdown",
   "metadata": {},
   "source": [
    "**3. Set up Google Sheets API credentials following the instructions in [Google Cloud docs](https://developers.google.com/sheets/api/quickstart/python?hl=pt-br). Download credentials, rename to secrets.json and put into credentials folder.**"
   ]
  },
  {
   "cell_type": "code",
   "execution_count": 3,
   "metadata": {},
   "outputs": [],
   "source": [
    "sheetService = GoogleSheetsService(SAMPLE_SPREADSHEET_ID)\n",
    "\n",
    "# Get sheets based in range strings \n",
    "investments = sheetService.get_sheet(SHEET_PAGE_INVESTMENTS).drop('bank', axis=1)\n",
    "applications = sheetService.get_sheet(SHEET_PAGE_APPLICATIONS).drop('id', axis=1)\n",
    "returns = sheetService.get_sheet(SHEET_PAGE_RETURNS).drop('bank', axis=1).drop('id', axis=1)"
   ]
  },
  {
   "cell_type": "code",
   "execution_count": 4,
   "metadata": {},
   "outputs": [],
   "source": [
    "ids = investments['investment_name'].values"
   ]
  },
  {
   "cell_type": "code",
   "execution_count": null,
   "metadata": {},
   "outputs": [],
   "source": [
    "raw_body = {\n",
    "  'investments': [],\n",
    "  'applications': [],\n",
    "  'returns': []\n",
    "}\n",
    "\n",
    "# Build a structured json to send to Gemini, dividing investiments in cycles, each cycle can have applications( apply/withdraw money on existing investiments) and returns (record of current value of investment).\n",
    "for id in ids[3:6]:\n",
    "  raw_body['investments'].extend(\n",
    "    restructure_dataframe(\n",
    "      investments[investments[\"investment_name\"] == id]\n",
    "    )\n",
    "  )\n",
    "\n",
    "  raw_body['applications'].extend(\n",
    "    restructure_dataframe(\n",
    "      applications[applications[\"investment_name\"] == id]\n",
    "    )\n",
    "  )\n",
    "\n",
    "  raw_body['returns'].extend(\n",
    "    restructure_dataframe(\n",
    "      returns[returns[\"investment_name\"] == id]\n",
    "    )\n",
    "  )\n",
    "\n",
    "print(raw_body)\n",
    "body_string = f'''Take this as base for the following questions: {json.dumps(raw_body)}'''"
   ]
  },
  {
   "cell_type": "code",
   "execution_count": null,
   "metadata": {},
   "outputs": [],
   "source": [
    "# Initialize Gemini chat and send base prompt, telling how to classify and calculate profit, and sending the database loaded from Google Sheets\n",
    "chat_bot = GeminiService(GEMINI_API_KEY)\n",
    "chat_bot.send_message(BASE_PROMPT)\n",
    "chat_bot.send_message(body_string)"
   ]
  },
  {
   "cell_type": "code",
   "execution_count": null,
   "metadata": {},
   "outputs": [],
   "source": [
    "# Interactive chat\n",
    "prompt = \"Show me a summary of the data provided\"\n",
    "while prompt.lower() != \"thanks\":\n",
    "  response = chat_bot.send_message(prompt)\n",
    "  display(to_markdown(f'**VTR**: {response}'))\n",
    "  prompt = input(\"Ask to VTR: \")"
   ]
  },
  {
   "cell_type": "code",
   "execution_count": null,
   "metadata": {},
   "outputs": [],
   "source": []
  },
  {
   "cell_type": "code",
   "execution_count": null,
   "metadata": {},
   "outputs": [],
   "source": []
  }
 ],
 "metadata": {
  "kernelspec": {
   "display_name": "base",
   "language": "python",
   "name": "python3"
  },
  "language_info": {
   "codemirror_mode": {
    "name": "ipython",
    "version": 3
   },
   "file_extension": ".py",
   "mimetype": "text/x-python",
   "name": "python",
   "nbconvert_exporter": "python",
   "pygments_lexer": "ipython3",
   "version": "3.10.9"
  }
 },
 "nbformat": 4,
 "nbformat_minor": 2
}
