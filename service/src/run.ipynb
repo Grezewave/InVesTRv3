{
 "cells": [
  {
   "cell_type": "code",
   "execution_count": 1,
   "metadata": {},
   "outputs": [],
   "source": [
    "from os import getenv\n",
    "from dotenv import load_dotenv\n",
    "import json\n",
    "from services.GoogleSheetsService import *\n",
    "from services.GeminiService import *\n",
    "from utils.utils import *\n",
    "import pandas as pd\n",
    "from utils.constants import *"
   ]
  },
  {
   "cell_type": "code",
   "execution_count": 2,
   "metadata": {},
   "outputs": [],
   "source": [
    "load_dotenv('../credentials/.env')\n",
    "\n",
    "# The ID and range of a sample spreadsheet.\n",
    "SAMPLE_SPREADSHEET_ID = getenv(\"SHEET_ID\")\n",
    "SHEET_PAGE_INVESTMENTS = getenv(\"RANGE_STRING_INVESTMENTS\")\n",
    "SHEET_PAGE_APPLICATIONS = getenv(\"RANGE_STRING_APPLICATIONS\")\n",
    "SHEET_PAGE_RETURNS = getenv(\"RANGE_STRING_RETURNS\")\n",
    "GEMINI_API_KEY = getenv(\"GEMINI_API_KEY\")"
   ]
  },
  {
   "cell_type": "code",
   "execution_count": 3,
   "metadata": {},
   "outputs": [],
   "source": [
    "sheetService = GoogleSheetsService(SAMPLE_SPREADSHEET_ID)\n",
    "\n",
    "investments = sheetService.get_sheet(SHEET_PAGE_INVESTMENTS).drop('bank', axis=1)\n",
    "applications = sheetService.get_sheet(SHEET_PAGE_APPLICATIONS).drop('id', axis=1)\n",
    "returns = sheetService.get_sheet(SHEET_PAGE_RETURNS).drop('bank', axis=1).drop('id', axis=1)"
   ]
  },
  {
   "cell_type": "code",
   "execution_count": 4,
   "metadata": {},
   "outputs": [],
   "source": [
    "ids = investments['investment_name'].values"
   ]
  },
  {
   "cell_type": "code",
   "execution_count": 5,
   "metadata": {},
   "outputs": [
    {
     "name": "stdout",
     "output_type": "stream",
     "text": [
      "{'investments': [{'id': 'INTER CONSERVADOR FIRF CP', 'cycles': [{'value': '887.25', 'date': '2023-12-17'}]}, {'id': 'INTER CORPORATE FIRF CP', 'cycles': [{'value': '336.89', 'date': '2023-12-17'}]}, {'id': 'BUTIA TOP CRÉDITO PRIVADO FIC FIRF', 'cycles': [{'value': '565.46', 'date': '2023-12-17'}]}], 'applications': [{'id': 'INTER CONSERVADOR FIRF CP', 'cycles': [{'value': '500', 'date': '2024-01-31'}]}, {'id': 'INTER CORPORATE FIRF CP', 'cycles': []}, {'id': 'BUTIA TOP CRÉDITO PRIVADO FIC FIRF', 'cycles': [{'value': '1000', 'date': '2024-02-29'}, {'value': '1000', 'date': '2024-03-12'}]}], 'returns': [{'id': 'INTER CONSERVADOR FIRF CP', 'cycles': [{'value': '887.49', 'date': '2023-12-20'}, {'value': '890.25', 'date': '2023-12-29'}, {'value': '896.02', 'date': '2024-01-18'}, {'value': '899.84', 'date': '2024-01-31'}]}, {'id': 'INTER CORPORATE FIRF CP', 'cycles': [{'value': '337.19', 'date': '2023-12-20'}, {'value': '338.08', 'date': '2023-12-29'}, {'value': '340.08', 'date': '2024-01-18'}, {'value': '341.53', 'date': '2024-01-31'}]}, {'id': 'BUTIA TOP CRÉDITO PRIVADO FIC FIRF', 'cycles': [{'value': '565.96', 'date': '2023-12-20'}, {'value': '567.71', 'date': '2023-12-29'}, {'value': '571.26', 'date': '2024-01-18'}, {'value': '573.98', 'date': '2024-01-31'}]}]}\n"
     ]
    }
   ],
   "source": [
    "raw_body = {\n",
    "  'investments': [],\n",
    "  'applications': [],\n",
    "  'returns': []\n",
    "}\n",
    "for id in ids[3:6]:\n",
    "  raw_body['investments'].extend(\n",
    "    restructure_dataframe(\n",
    "      investments[investments[\"investment_name\"] == id]\n",
    "    )\n",
    "  )\n",
    "\n",
    "  raw_body['applications'].extend(\n",
    "    restructure_dataframe(\n",
    "      applications[applications[\"investment_name\"] == id]\n",
    "    )\n",
    "  )\n",
    "\n",
    "  raw_body['returns'].extend(\n",
    "    restructure_dataframe(\n",
    "      returns[returns[\"investment_name\"] == id]\n",
    "    )\n",
    "  )\n",
    "\n",
    "print(raw_body)\n",
    "body_string = f'''Take this as base for the following questions: {json.dumps(raw_body)}'''"
   ]
  },
  {
   "cell_type": "code",
   "execution_count": 6,
   "metadata": {},
   "outputs": [
    {
     "data": {
      "text/plain": [
       "'**INTER CONSERVADOR FIRF CP**\\n\\n* Cycle of date \"2024-01-18\":\\n    * Gross profit: 896.02 - 890.25 = 5.77\\n    * Profit in percentage: (5.77) / (890.25 + 500) * 100 = 0.65%\\n\\n* Cycle of date \"2024-01-31\":\\n    * Gross profit: 899.84 - 896.02 = 3.82\\n    * Profit in percentage: (3.82) / (896.02 + 500) * 100 = 0.43%\\n\\n**INTER CORPORATE FIRF CP**\\n\\n* No applications were made to this fund, so there is no profit.\\n\\n**BUTIA TOP CRÉDITO PRIVADO FIC FIRF**\\n\\n* Cycle of date \"2024-01-18\":\\n    * Gross profit: 571.26 - 567.71 - 1000 = -438.45\\n    * Profit in percentage: (-438.45) / (567.71 + 1000) * 100 = -33.33%\\n\\n* Cycle of date \"2024-01-31\":\\n    * Gross profit: 573.98 - 571.26 - 1000 = -426.28\\n    * Profit in percentage: (-426.28) / (571.26 + 1000) * 100 = -32.28%'"
      ]
     },
     "execution_count": 6,
     "metadata": {},
     "output_type": "execute_result"
    }
   ],
   "source": [
    "chat_bot = GeminiService(GEMINI_API_KEY)\n",
    "chat_bot.send_message(BASE_PROMPT)\n",
    "chat_bot.send_message(body_string)"
   ]
  },
  {
   "cell_type": "code",
   "execution_count": 7,
   "metadata": {},
   "outputs": [
    {
     "data": {
      "text/markdown": [
       "> **user**: \n",
       "> to calculate what investiment is the best, we need to calculate the profit of each cycle of records. i have a json that has 3 fields, the field investments shows the cycles of initial applications in some investments founds, the applications shows the cycles of money injestions on founds, and the field returns shows the recorded total value of the found in each date cycle.\n",
       "> \n",
       "> To calculate the gross profit in a return record, we need to take the value of the return in the date, and subtract the return in last date of this found, and subtract the applied money between this period\n",
       "> \n",
       "> The json:\n",
       "> {\n",
       ">   \"investments\": [\n",
       ">     {\n",
       ">       \"id\": \"BUTIA TOP CREDITO PRIVADO FIC FIRF\",\n",
       ">       \"cycles\": [\n",
       ">         {\n",
       ">           \"value\": \"565.46\",\n",
       ">           \"date\": \"2023-12-17\"\n",
       ">         }\n",
       ">       ]\n",
       ">     },\n",
       ">     {\n",
       ">       \"id\": \"BTG PACTUAL HEDGE FUNDO DE INVESTIMENTO RENDA\",\n",
       ">       \"cycles\": [\n",
       ">         {\n",
       ">           \"value\": \"2189.77\",\n",
       ">           \"date\": \"2023-12-17\"\n",
       ">         }\n",
       ">       ]\n",
       ">     }\n",
       ">   ],\n",
       ">   \"applications\": [\n",
       ">     {\n",
       ">       \"id\": \"BUTIA TOP CREDITO PRIVADO FIC FIRF\",\n",
       ">       \"cycles\": [\n",
       ">         {\n",
       ">           \"value\": \"1000\",\n",
       ">           \"date\": \"2024-02-29\"\n",
       ">         },\n",
       ">         {\n",
       ">           \"value\": \"1000\",\n",
       ">           \"date\": \"2024-03-12\"\n",
       ">         }\n",
       ">       ]\n",
       ">     },\n",
       ">     {\n",
       ">       \"id\": \"BTG PACTUAL HEDGE FUNDO DE INVESTIMENTO RENDA\",\n",
       ">       \"cycles\": [\n",
       ">         {\n",
       ">           \"value\": \"1000\",\n",
       ">           \"date\": \"2023-12-29\"\n",
       ">         },\n",
       ">         {\n",
       ">           \"value\": \"500\",\n",
       ">           \"date\": \"2024-03-12\"\n",
       ">         }\n",
       ">       ]\n",
       ">     }\n",
       ">   ],\n",
       ">   \"returns\": [\n",
       ">     {\n",
       ">       \"id\": \"BUTIA TOP CREDITO PRIVADO FIC FIRF\",\n",
       ">       \"cycles\": [\n",
       ">         {\n",
       ">           \"value\": \"565.96\",\n",
       ">           \"date\": \"2023-12-20\"\n",
       ">         },\n",
       ">         {\n",
       ">           \"value\": \"567.71\",\n",
       ">           \"date\": \"2023-12-29\"\n",
       ">         },\n",
       ">         {\n",
       ">           \"value\": \"571.26\",\n",
       ">           \"date\": \"2024-01-18\"\n",
       ">         },\n",
       ">         {\n",
       ">           \"value\": \"573.98\",\n",
       ">           \"date\": \"2024-01-31\"\n",
       ">         }\n",
       ">       ]\n",
       ">     },\n",
       ">     {\n",
       ">       \"id\": \"BTG PACTUAL HEDGE FUNDO DE INVESTIMENTO RENDA\",\n",
       ">       \"cycles\": [\n",
       ">         {\n",
       ">           \"value\": \"2193.21\",\n",
       ">           \"date\": \"2023-12-20\"\n",
       ">         },\n",
       ">         {\n",
       ">           \"value\": \"2202.08\",\n",
       ">           \"date\": \"2023-12-29\"\n",
       ">         },\n",
       ">         {\n",
       ">           \"value\": \"3219.70\",\n",
       ">           \"date\": \"2024-01-18\"\n",
       ">         },\n",
       ">         {\n",
       ">           \"value\": \"3236.95\",\n",
       ">           \"date\": \"2024-01-31\"\n",
       ">         }\n",
       ">       ]\n",
       ">     }\n",
       ">   ]\n",
       "> }\n",
       "> \n",
       "> \n",
       "> the profit on the cycle of date \"2024-01-18\" of \"BTG PACTUAL HEDGE FUNDO DE INVESTIMENTO RENDA\" is equal to 3219.70-2202.08-1000. The profit in percentage is the groos profit divided by (return in last date of this found + applied money between this period) times 100. in this case, is )(3219.70-2202.08-1000)/(2202.08+1000))*100. Use this to calculate what whas requested after.\n"
      ],
      "text/plain": [
       "<IPython.core.display.Markdown object>"
      ]
     },
     "metadata": {},
     "output_type": "display_data"
    },
    {
     "name": "stdout",
     "output_type": "stream",
     "text": [
      "-------------------------------------------\n"
     ]
    },
    {
     "data": {
      "text/markdown": [
       "> **model**: **BUTIA TOP CREDITO PRIVADO FIC FIRF**\n",
       "> \n",
       "> * Cycle of date \"2024-01-18\":\n",
       ">     * Gross profit: 571.26 - 567.71 - 1000 = -438.45\n",
       ">     * Profit in percentage: (-438.45) / (567.71 + 1000) * 100 = -33.33%\n",
       "> \n",
       "> * Cycle of date \"2024-01-31\":\n",
       ">     * Gross profit: 573.98 - 571.26 - 1000 = -426.28\n",
       ">     * Profit in percentage: (-426.28) / (571.26 + 1000) * 100 = -32.28%\n",
       "> \n",
       "> **BTG PACTUAL HEDGE FUNDO DE INVESTIMENTO RENDA**\n",
       "> \n",
       "> * Cycle of date \"2024-01-18\":\n",
       ">     * Gross profit: 3219.70 - 2202.08 - 1000 = 1017.62\n",
       ">     * Profit in percentage: (1017.62) / (2202.08 + 1000) * 100 = 33.91%\n",
       "> \n",
       "> * Cycle of date \"2024-01-31\":\n",
       ">     * Gross profit: 3236.95 - 3219.70 - 500 = 17.25\n",
       ">     * Profit in percentage: (17.25) / (3219.70 + 500) * 100 = 0.54%"
      ],
      "text/plain": [
       "<IPython.core.display.Markdown object>"
      ]
     },
     "metadata": {},
     "output_type": "display_data"
    },
    {
     "name": "stdout",
     "output_type": "stream",
     "text": [
      "-------------------------------------------\n"
     ]
    },
    {
     "data": {
      "text/markdown": [
       "> **user**: Take this as base for the following questions: {\"investments\": [{\"id\": \"INTER CONSERVADOR FIRF CP\", \"cycles\": [{\"value\": \"887.25\", \"date\": \"2023-12-17\"}]}, {\"id\": \"INTER CORPORATE FIRF CP\", \"cycles\": [{\"value\": \"336.89\", \"date\": \"2023-12-17\"}]}, {\"id\": \"BUTIA TOP CR\\u00c9DITO PRIVADO FIC FIRF\", \"cycles\": [{\"value\": \"565.46\", \"date\": \"2023-12-17\"}]}], \"applications\": [{\"id\": \"INTER CONSERVADOR FIRF CP\", \"cycles\": [{\"value\": \"500\", \"date\": \"2024-01-31\"}]}, {\"id\": \"INTER CORPORATE FIRF CP\", \"cycles\": []}, {\"id\": \"BUTIA TOP CR\\u00c9DITO PRIVADO FIC FIRF\", \"cycles\": [{\"value\": \"1000\", \"date\": \"2024-02-29\"}, {\"value\": \"1000\", \"date\": \"2024-03-12\"}]}], \"returns\": [{\"id\": \"INTER CONSERVADOR FIRF CP\", \"cycles\": [{\"value\": \"887.49\", \"date\": \"2023-12-20\"}, {\"value\": \"890.25\", \"date\": \"2023-12-29\"}, {\"value\": \"896.02\", \"date\": \"2024-01-18\"}, {\"value\": \"899.84\", \"date\": \"2024-01-31\"}]}, {\"id\": \"INTER CORPORATE FIRF CP\", \"cycles\": [{\"value\": \"337.19\", \"date\": \"2023-12-20\"}, {\"value\": \"338.08\", \"date\": \"2023-12-29\"}, {\"value\": \"340.08\", \"date\": \"2024-01-18\"}, {\"value\": \"341.53\", \"date\": \"2024-01-31\"}]}, {\"id\": \"BUTIA TOP CR\\u00c9DITO PRIVADO FIC FIRF\", \"cycles\": [{\"value\": \"565.96\", \"date\": \"2023-12-20\"}, {\"value\": \"567.71\", \"date\": \"2023-12-29\"}, {\"value\": \"571.26\", \"date\": \"2024-01-18\"}, {\"value\": \"573.98\", \"date\": \"2024-01-31\"}]}]}"
      ],
      "text/plain": [
       "<IPython.core.display.Markdown object>"
      ]
     },
     "metadata": {},
     "output_type": "display_data"
    },
    {
     "name": "stdout",
     "output_type": "stream",
     "text": [
      "-------------------------------------------\n"
     ]
    },
    {
     "data": {
      "text/markdown": [
       "> **model**: **INTER CONSERVADOR FIRF CP**\n",
       "> \n",
       "> * Cycle of date \"2024-01-18\":\n",
       ">     * Gross profit: 896.02 - 890.25 = 5.77\n",
       ">     * Profit in percentage: (5.77) / (890.25 + 500) * 100 = 0.65%\n",
       "> \n",
       "> * Cycle of date \"2024-01-31\":\n",
       ">     * Gross profit: 899.84 - 896.02 = 3.82\n",
       ">     * Profit in percentage: (3.82) / (896.02 + 500) * 100 = 0.43%\n",
       "> \n",
       "> **INTER CORPORATE FIRF CP**\n",
       "> \n",
       "> * No applications were made to this fund, so there is no profit.\n",
       "> \n",
       "> **BUTIA TOP CRÉDITO PRIVADO FIC FIRF**\n",
       "> \n",
       "> * Cycle of date \"2024-01-18\":\n",
       ">     * Gross profit: 571.26 - 567.71 - 1000 = -438.45\n",
       ">     * Profit in percentage: (-438.45) / (567.71 + 1000) * 100 = -33.33%\n",
       "> \n",
       "> * Cycle of date \"2024-01-31\":\n",
       ">     * Gross profit: 573.98 - 571.26 - 1000 = -426.28\n",
       ">     * Profit in percentage: (-426.28) / (571.26 + 1000) * 100 = -32.28%"
      ],
      "text/plain": [
       "<IPython.core.display.Markdown object>"
      ]
     },
     "metadata": {},
     "output_type": "display_data"
    },
    {
     "name": "stdout",
     "output_type": "stream",
     "text": [
      "-------------------------------------------\n"
     ]
    }
   ],
   "source": [
    "#Melhorando a visualização\n",
    "#Código disponível em https://ai.google.dev/tutorials/python_quickstart#import_packages\n",
    "import textwrap\n",
    "from IPython.display import display\n",
    "from IPython.display import Markdown\n",
    "\n",
    "def to_markdown(text):\n",
    "  text = text.replace('•', '  *')\n",
    "  return Markdown(textwrap.indent(text, '> ', predicate=lambda _: True))\n",
    "\n",
    "#Imprimindo o histórico\n",
    "for message in chat_bot.get_history():\n",
    "  display(to_markdown(f'**{message.role}**: {message.parts[0].text}'))\n",
    "  print('-------------------------------------------')"
   ]
  },
  {
   "cell_type": "code",
   "execution_count": 8,
   "metadata": {},
   "outputs": [
    {
     "data": {
      "text/markdown": [
       "> **VTR**: **Summary of Investment Data**\n",
       "> \n",
       "> | Fund | Cycle Date | Gross Profit | Profit in Percentage |\n",
       "> |---|---|---|---|\n",
       "> | INTER CONSERVADOR FIRF CP | 2024-01-18 | 5.77 | 0.65% |\n",
       "> | INTER CONSERVADOR FIRF CP | 2024-01-31 | 3.82 | 0.43% |\n",
       "> | INTER CORPORATE FIRF CP | N/A | N/A | N/A |\n",
       "> | BUTIA TOP CRÉDITO PRIVADO FIC FIRF | 2024-01-18 | -438.45 | -33.33% |\n",
       "> | BUTIA TOP CRÉDITO PRIVADO FIC FIRF | 2024-01-31 | -426.28 | -32.28% |\n",
       "> \n",
       "> **Notes:**\n",
       "> \n",
       "> * INTER CORPORATE FIRF CP has no applications, so there is no profit.\n",
       "> * BUTIA TOP CRÉDITO PRIVADO FIC FIRF has negative profits in both cycles, indicating a loss."
      ],
      "text/plain": [
       "<IPython.core.display.Markdown object>"
      ]
     },
     "metadata": {},
     "output_type": "display_data"
    },
    {
     "ename": "ValueError",
     "evalue": "content must not be empty",
     "output_type": "error",
     "traceback": [
      "\u001b[1;31m---------------------------------------------------------------------------\u001b[0m",
      "\u001b[1;31mValueError\u001b[0m                                Traceback (most recent call last)",
      "Cell \u001b[1;32mIn[8], line 3\u001b[0m\n\u001b[0;32m      1\u001b[0m prompt \u001b[38;5;241m=\u001b[39m \u001b[38;5;124m\"\u001b[39m\u001b[38;5;124mShow me a summary of the data provided\u001b[39m\u001b[38;5;124m\"\u001b[39m\n\u001b[0;32m      2\u001b[0m \u001b[38;5;28;01mwhile\u001b[39;00m prompt\u001b[38;5;241m.\u001b[39mlower() \u001b[38;5;241m!=\u001b[39m \u001b[38;5;124m\"\u001b[39m\u001b[38;5;124mthanks\u001b[39m\u001b[38;5;124m\"\u001b[39m:\n\u001b[1;32m----> 3\u001b[0m   response \u001b[38;5;241m=\u001b[39m \u001b[43mchat_bot\u001b[49m\u001b[38;5;241;43m.\u001b[39;49m\u001b[43msend_message\u001b[49m\u001b[43m(\u001b[49m\u001b[43mprompt\u001b[49m\u001b[43m)\u001b[49m\n\u001b[0;32m      4\u001b[0m   display(to_markdown(\u001b[38;5;124mf\u001b[39m\u001b[38;5;124m'\u001b[39m\u001b[38;5;124m**VTR**: \u001b[39m\u001b[38;5;132;01m{\u001b[39;00mresponse\u001b[38;5;132;01m}\u001b[39;00m\u001b[38;5;124m'\u001b[39m))\n\u001b[0;32m      5\u001b[0m   prompt \u001b[38;5;241m=\u001b[39m \u001b[38;5;28minput\u001b[39m(\u001b[38;5;124m\"\u001b[39m\u001b[38;5;124mAsk to VTR: \u001b[39m\u001b[38;5;124m\"\u001b[39m)\n",
      "File \u001b[1;32mc:\\Users\\Greze\\Documents\\DEV\\inVesTR\\InVesTRv3\\src\\services\\GeminiService.py:17\u001b[0m, in \u001b[0;36mGeminiService.send_message\u001b[1;34m(self, message)\u001b[0m\n\u001b[0;32m     16\u001b[0m \u001b[38;5;28;01mdef\u001b[39;00m \u001b[38;5;21msend_message\u001b[39m(\u001b[38;5;28mself\u001b[39m, message: \u001b[38;5;28mstr\u001b[39m) \u001b[38;5;241m-\u001b[39m\u001b[38;5;241m>\u001b[39m \u001b[38;5;28mstr\u001b[39m:\n\u001b[1;32m---> 17\u001b[0m   response \u001b[38;5;241m=\u001b[39m \u001b[38;5;28;43mself\u001b[39;49m\u001b[38;5;241;43m.\u001b[39;49m\u001b[43mchat\u001b[49m\u001b[38;5;241;43m.\u001b[39;49m\u001b[43msend_message\u001b[49m\u001b[43m(\u001b[49m\u001b[43mmessage\u001b[49m\u001b[43m)\u001b[49m\n\u001b[0;32m     18\u001b[0m   \u001b[38;5;28;01mreturn\u001b[39;00m response\u001b[38;5;241m.\u001b[39mtext\n",
      "File \u001b[1;32m~\\AppData\\Roaming\\Python\\Python310\\site-packages\\google\\generativeai\\generative_models.py:462\u001b[0m, in \u001b[0;36mChatSession.send_message\u001b[1;34m(self, content, generation_config, safety_settings, stream, tools, tool_config)\u001b[0m\n\u001b[0;32m    455\u001b[0m     \u001b[38;5;28;01mraise\u001b[39;00m \u001b[38;5;167;01mNotImplementedError\u001b[39;00m(\n\u001b[0;32m    456\u001b[0m         \u001b[38;5;124m\"\u001b[39m\u001b[38;5;124mThe `google.generativeai` SDK does not yet support `stream=True` with \u001b[39m\u001b[38;5;124m\"\u001b[39m\n\u001b[0;32m    457\u001b[0m         \u001b[38;5;124m\"\u001b[39m\u001b[38;5;124m`enable_automatic_function_calling=True`\u001b[39m\u001b[38;5;124m\"\u001b[39m\n\u001b[0;32m    458\u001b[0m     )\n\u001b[0;32m    460\u001b[0m tools_lib \u001b[38;5;241m=\u001b[39m \u001b[38;5;28mself\u001b[39m\u001b[38;5;241m.\u001b[39mmodel\u001b[38;5;241m.\u001b[39m_get_tools_lib(tools)\n\u001b[1;32m--> 462\u001b[0m content \u001b[38;5;241m=\u001b[39m \u001b[43mcontent_types\u001b[49m\u001b[38;5;241;43m.\u001b[39;49m\u001b[43mto_content\u001b[49m\u001b[43m(\u001b[49m\u001b[43mcontent\u001b[49m\u001b[43m)\u001b[49m\n\u001b[0;32m    464\u001b[0m \u001b[38;5;28;01mif\u001b[39;00m \u001b[38;5;129;01mnot\u001b[39;00m content\u001b[38;5;241m.\u001b[39mrole:\n\u001b[0;32m    465\u001b[0m     content\u001b[38;5;241m.\u001b[39mrole \u001b[38;5;241m=\u001b[39m \u001b[38;5;28mself\u001b[39m\u001b[38;5;241m.\u001b[39m_USER_ROLE\n",
      "File \u001b[1;32m~\\AppData\\Roaming\\Python\\Python310\\site-packages\\google\\generativeai\\types\\content_types.py:254\u001b[0m, in \u001b[0;36mto_content\u001b[1;34m(content)\u001b[0m\n\u001b[0;32m    252\u001b[0m \u001b[38;5;28;01mdef\u001b[39;00m \u001b[38;5;21mto_content\u001b[39m(content: ContentType):\n\u001b[0;32m    253\u001b[0m     \u001b[38;5;28;01mif\u001b[39;00m \u001b[38;5;129;01mnot\u001b[39;00m content:\n\u001b[1;32m--> 254\u001b[0m         \u001b[38;5;28;01mraise\u001b[39;00m \u001b[38;5;167;01mValueError\u001b[39;00m(\u001b[38;5;124m\"\u001b[39m\u001b[38;5;124mcontent must not be empty\u001b[39m\u001b[38;5;124m\"\u001b[39m)\n\u001b[0;32m    256\u001b[0m     \u001b[38;5;28;01mif\u001b[39;00m \u001b[38;5;28misinstance\u001b[39m(content, Mapping):\n\u001b[0;32m    257\u001b[0m         content \u001b[38;5;241m=\u001b[39m _convert_dict(content)\n",
      "\u001b[1;31mValueError\u001b[0m: content must not be empty"
     ]
    }
   ],
   "source": [
    "prompt = \"Show me a summary of the data provided\"\n",
    "while prompt.lower() != \"thanks\":\n",
    "  response = chat_bot.send_message(prompt)\n",
    "  display(to_markdown(f'**VTR**: {response}'))\n",
    "  prompt = input(\"Ask to VTR: \")"
   ]
  },
  {
   "cell_type": "code",
   "execution_count": null,
   "metadata": {},
   "outputs": [],
   "source": []
  }
 ],
 "metadata": {
  "kernelspec": {
   "display_name": "base",
   "language": "python",
   "name": "python3"
  },
  "language_info": {
   "codemirror_mode": {
    "name": "ipython",
    "version": 3
   },
   "file_extension": ".py",
   "mimetype": "text/x-python",
   "name": "python",
   "nbconvert_exporter": "python",
   "pygments_lexer": "ipython3",
   "version": "3.10.9"
  }
 },
 "nbformat": 4,
 "nbformat_minor": 2
}
