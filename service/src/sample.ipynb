{
 "cells": [
  {
   "cell_type": "code",
   "execution_count": 1,
   "metadata": {},
   "outputs": [],
   "source": [
    "from os import getenv\n",
    "from dotenv import load_dotenv\n",
    "import json\n",
    "from services.GoogleSheetsService import *\n",
    "from services.GeminiService import *\n",
    "from utils.utils import *\n",
    "from utils.constants import *"
   ]
  },
  {
   "cell_type": "markdown",
   "metadata": {},
   "source": [
    "**1. Set up Google Gemini API credentials following the instructions in [Google Gemini docs](https://ai.google.dev/gemini-api/docs/quickstart?hl=pt-br&_gl=1*iiivu*_up*MQ..&gclid=CjwKCAjw9IayBhBJEiwAVuc3fu5nCfvDVWPXbLvhT15etQN7YMyqkDg3NFBbBms5iBUHGEp21nPf6RoCFPAQAvD_BwE). Export your api key to environment variables, or put in .env file inside credentials/ folder.**"
   ]
  },
  {
   "cell_type": "code",
   "execution_count": 2,
   "metadata": {},
   "outputs": [],
   "source": [
    "load_dotenv('../credentials/.env')\n",
    "GEMINI_API_KEY = getenv(\"GEMINI_API_KEY\")"
   ]
  },
  {
   "cell_type": "code",
   "execution_count": null,
   "metadata": {},
   "outputs": [],
   "source": [
    "raw_body = {\n",
    "  'investments': [],\n",
    "  'applications': [],\n",
    "  'returns': []\n",
    "}"
   ]
  },
  {
   "cell_type": "code",
   "execution_count": null,
   "metadata": {},
   "outputs": [],
   "source": [
    "# Initialize Gemini chat and send base prompt, telling how to classify and calculate profit, and sending the database loaded from Google Sheets\n",
    "chat_bot = GeminiService(GEMINI_API_KEY)\n",
    "chat_bot.send_message(BASE_PROMPT)\n",
    "chat_bot.send_message(body_string)"
   ]
  },
  {
   "cell_type": "code",
   "execution_count": null,
   "metadata": {},
   "outputs": [],
   "source": [
    "# Interactive chat\n",
    "prompt = \"Show me a summary of the data provided\"\n",
    "while prompt.lower() != \"thanks\":\n",
    "  response = chat_bot.send_message(prompt)\n",
    "  display(to_markdown(f'**VTR**: {response}'))\n",
    "  prompt = input(\"Ask to VTR: \")"
   ]
  },
  {
   "cell_type": "code",
   "execution_count": null,
   "metadata": {},
   "outputs": [],
   "source": []
  },
  {
   "cell_type": "code",
   "execution_count": null,
   "metadata": {},
   "outputs": [],
   "source": []
  }
 ],
 "metadata": {
  "kernelspec": {
   "display_name": "base",
   "language": "python",
   "name": "python3"
  },
  "language_info": {
   "codemirror_mode": {
    "name": "ipython",
    "version": 3
   },
   "file_extension": ".py",
   "mimetype": "text/x-python",
   "name": "python",
   "nbconvert_exporter": "python",
   "pygments_lexer": "ipython3",
   "version": "3.10.9"
  }
 },
 "nbformat": 4,
 "nbformat_minor": 2
}
